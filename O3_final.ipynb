{
 "cells": [
  {
   "cell_type": "code",
   "execution_count": 3,
   "metadata": {},
   "outputs": [],
   "source": [
    "import numpy as np\n",
    "import pandas as pd\n",
    "import seaborn as sns\n",
    "from scipy import stats\n",
    "import matplotlib.pyplot as plt\n",
    "\n",
    "import statsmodels.api as sm\n",
    "from statsmodels.stats import diagnostic as diag\n",
    "from statsmodels.stats.outliers_influence import variance_inflation_factor\n",
    "\n",
    "from sklearn.linear_model import LinearRegression, HuberRegressor\n",
    "from sklearn.pipeline import make_pipeline\n",
    "from sklearn.preprocessing import PolynomialFeatures\n",
    "from sklearn.model_selection import train_test_split\n",
    "from sklearn.metrics import mean_squared_error, r2_score, mean_absolute_error\n"
   ]
  },
  {
   "cell_type": "code",
   "execution_count": 11,
   "metadata": {},
   "outputs": [],
   "source": [
    "from CALIBRATION import filedata, readfiles,ScatterPlotVariables, ScatterPlotVariablesperday, LinearRegressionModel, PolynomialRegressionModel,  HuberRegressionModel\n",
    "file_O3 = filedata('2019-08-15-O3-Final.xlsx', 'Base')\n",
    "# Read data from fike\n",
    "day, X, y, dataframe = readfiles(file_O3)"
   ]
  },
  {
   "cell_type": "code",
   "execution_count": 12,
   "metadata": {},
   "outputs": [],
   "source": [
    "#ScatterPlotVariablesperday(day, X,y,dataframe.columns[1:-1]);  plt.show()"
   ]
  },
  {
   "cell_type": "code",
   "execution_count": 13,
   "metadata": {},
   "outputs": [],
   "source": [
    "# Check multicollinerity\n",
    "\n",
    "# Calculate the correlation matrix\n",
    "#corr = dataframe.corr()\n",
    "#display(corr)\n",
    "# correlation heatmap\n",
    "#sns.heatmap(corr, xticklabels=corr.columns, yticklabels=corr.columns, cmap='RdBu')\n",
    "# Scatter plot for multicollinearity\n",
    "#pd.plotting.scatter_matrix(dataframe, alpha=1, figsize = (30,20))\n",
    "#plt.show()"
   ]
  },
  {
   "cell_type": "markdown",
   "metadata": {},
   "source": [
    "## Select day 4"
   ]
  },
  {
   "cell_type": "code",
   "execution_count": 14,
   "metadata": {},
   "outputs": [],
   "source": [
    "dataframe = dataframe[dataframe['Day']==4]\n",
    "dataframe_before = dataframe\n",
    "#dataframe_after = dataframe\n",
    "dataframe_after = dataframe.drop(['Day'], axis=1)\n",
    "\n",
    "#X1 = sm.tools.add_constant(dataframe_before)\n",
    "#X2 = sm.tools.add_constant(dataframe_after)\n",
    "\n",
    "#series_before = pd.Series([variance_inflation_factor(X1.values,i) for i in range(X1.shape[1])],index = X1.columns)\n",
    "#series_after = pd.Series([variance_inflation_factor(X2.values,i) for i in range(X2.shape[1])],index = X2.columns)\n",
    "\n",
    "#print(\"DATA BEFORE\")\n",
    "#print('-'*100)\n",
    "#display(series_before)\n",
    "\n",
    "#print(\"DATA AFTER\")\n",
    "#print('-'*100)\n",
    "#display(series_after)"
   ]
  },
  {
   "cell_type": "code",
   "execution_count": 15,
   "metadata": {},
   "outputs": [],
   "source": [
    "# Describe de data set\n",
    "#desc_df = dataframe.describe()\n",
    "\n",
    "#desc_df.loc['+3_std'] = desc_df.loc['mean'] + (desc_df.loc['std']*3)\n",
    "#desc_df.loc['-3_std'] = desc_df.loc['mean'] - (desc_df.loc['std']*3)\n",
    "\n",
    "#desc_df\n"
   ]
  },
  {
   "cell_type": "code",
   "execution_count": 16,
   "metadata": {},
   "outputs": [
    {
     "data": {
      "text/plain": [
       "Int64Index([155], dtype='int64')"
      ]
     },
     "execution_count": 16,
     "metadata": {},
     "output_type": "execute_result"
    }
   ],
   "source": [
    "# Removing outliers using zscore\n",
    "dataframe_remove = dataframe_after[(np.abs(stats.zscore(dataframe_after)) < 3).all(axis = 1)]\n",
    "dataframe_after.index.difference(dataframe_remove.index)"
   ]
  },
  {
   "cell_type": "markdown",
   "metadata": {},
   "source": [
    "# Linear Regression model"
   ]
  },
  {
   "cell_type": "code",
   "execution_count": 17,
   "metadata": {},
   "outputs": [
    {
     "name": "stdout",
     "output_type": "stream",
     "text": [
      "The intercept of our linear regression model is -132.13776\n",
      "The coefficient for Humidity is -0.40227\n",
      "The coefficient for Temperature is -0.38848\n",
      "The coefficient for NO2_We is -2253.49446\n",
      "The coefficient for NO2_Aux is 2406.59452\n",
      "The coefficient for O3_We is 2001.43338\n",
      "The coefficient for O3_Aux is -1449.48652\n"
     ]
    }
   ],
   "source": [
    "# Build the model using sklearn\n",
    "X = dataframe_remove.drop('O3 ppb', axis=1)\n",
    "y = dataframe_remove['O3 ppb']\n",
    "\n",
    "# Split X and y into X_\n",
    "X_train, X_test, y_train, y_test = train_test_split(X,y, test_size=0.2, random_state = 1)\n",
    "\n",
    "# Create Linear Regression model object\n",
    "model_lin_reg = LinearRegression()\n",
    "model_lin_reg.fit(X_train, y_train)\n",
    "\n",
    "intercept = model_lin_reg.intercept_\n",
    "coefficient = model_lin_reg.coef_\n",
    "\n",
    "print(\"The intercept of our linear regression model is {:.5f}\".format(intercept))\n",
    "for coef in zip(X.columns, model_lin_reg.coef_):\n",
    "    print(\"The coefficient for {} is {:.5f}\".format(coef[0], coef[1]))\n",
    "    \n",
    "# Prediction plot X_test \n",
    "#y_pred = model_lin_reg.predict(X_test)\n",
    "\n",
    "#model_mse = mean_squared_error(y_test, y_pred)\n",
    "#model_r2 = r2_score(y_test, y_pred)\n",
    "\n",
    "#plt.scatter(X_test['NO_We'], y_test )\n",
    "#print(model_mse, model_r2)\n",
    "\n",
    "#import pickle\n",
    "#with open('my_multilinear_regression_NO.sav','wb') as f:\n",
    "#    pickle.dump(model_lin_reg,f)"
   ]
  },
  {
   "cell_type": "code",
   "execution_count": null,
   "metadata": {},
   "outputs": [],
   "source": []
  },
  {
   "cell_type": "markdown",
   "metadata": {},
   "source": [
    "## Linear Model with sm"
   ]
  },
  {
   "cell_type": "code",
   "execution_count": 18,
   "metadata": {},
   "outputs": [
    {
     "name": "stdout",
     "output_type": "stream",
     "text": [
      "                            OLS Regression Results                            \n",
      "==============================================================================\n",
      "Dep. Variable:                 O3 ppb   R-squared:                       0.981\n",
      "Model:                            OLS   Adj. R-squared:                  0.979\n",
      "Method:                 Least Squares   F-statistic:                     455.6\n",
      "Date:                Fri, 16 Aug 2019   Prob (F-statistic):           4.06e-43\n",
      "Time:                        22:18:57   Log-Likelihood:                -164.38\n",
      "No. Observations:                  58   AIC:                             340.8\n",
      "Df Residuals:                      52   BIC:                             353.1\n",
      "Df Model:                           6                                         \n",
      "Covariance Type:            nonrobust                                         \n",
      "===============================================================================\n",
      "                  coef    std err          t      P>|t|      [0.025      0.975]\n",
      "-------------------------------------------------------------------------------\n",
      "Humidity       -0.2576      0.091     -2.816      0.007      -0.441      -0.074\n",
      "Temperature    -0.1637      0.239     -0.686      0.496      -0.643       0.315\n",
      "NO2_We      -2216.7595    370.927     -5.976      0.000   -2961.080   -1472.439\n",
      "NO2_Aux      2268.7600    638.923      3.551      0.001     986.667    3550.853\n",
      "O3_We        2124.6883    153.884     13.807      0.000    1815.897    2433.480\n",
      "O3_Aux      -2123.9261    754.273     -2.816      0.007   -3637.485    -610.367\n",
      "==============================================================================\n",
      "Omnibus:                        0.846   Durbin-Watson:                   1.425\n",
      "Prob(Omnibus):                  0.655   Jarque-Bera (JB):                0.477\n",
      "Skew:                          -0.218   Prob(JB):                        0.788\n",
      "Kurtosis:                       3.088   Cond. No.                     1.22e+05\n",
      "==============================================================================\n",
      "\n",
      "Warnings:\n",
      "[1] Standard Errors assume that the covariance matrix of the errors is correctly specified.\n",
      "[2] The condition number is large, 1.22e+05. This might indicate that there are\n",
      "strong multicollinearity or other numerical problems.\n"
     ]
    }
   ],
   "source": [
    "# define output\n",
    "#X2 = sm.add_constant(X)\n",
    "# create model with OLS\n",
    "model_lin_reg_2 = sm.OLS(y, X)\n",
    "# fir the data\n",
    "est = model_lin_reg_2.fit()\n",
    "print(est.summary())"
   ]
  },
  {
   "cell_type": "code",
   "execution_count": 19,
   "metadata": {},
   "outputs": [
    {
     "data": {
      "image/png": "[encoded data removed]",
      "text/plain": [
       "<Figure size 432x288 with 1 Axes>"
      ]
     },
     "metadata": {
      "needs_background": "light"
     },
     "output_type": "display_data"
    },
    {
     "name": "stdout",
     "output_type": "stream",
     "text": [
      "The mean of the residuals is -0.01296\n"
     ]
    }
   ],
   "source": [
    "# check normality of Residuals\n",
    "import pylab\n",
    "sm.qqplot(est.resid, line='s')\n",
    "pylab.show()\n",
    "mean_residuals = sum(est.resid)/len(est.resid)\n",
    "print(\"The mean of the residuals is {:.4}\".format(mean_residuals))"
   ]
  },
  {
   "cell_type": "code",
   "execution_count": null,
   "metadata": {},
   "outputs": [],
   "source": []
  },
  {
   "cell_type": "code",
   "execution_count": 20,
   "metadata": {},
   "outputs": [],
   "source": [
    "# Elliminate insignificant variables\n",
    "#dataframe_remove_2 = dataframe_remove.drop('Humidity', axis=1)\n",
    "#X = dataframe_remove_2.drop('NO_ppb', axis=1)\n",
    "#print(X)\n",
    "#y = dataframe_remove_2['NO_ppb']\n",
    "#print(y)\n",
    "# define output\n",
    "#X2 = sm.add_constant(X)\n",
    "# create model with OLS\n",
    "#model_lin_reg_2 = sm.OLS(y, X)\n",
    "# fir the data\n",
    "#est = model_lin_reg_2.fit()\n",
    "#print(est.summary())"
   ]
  },
  {
   "cell_type": "markdown",
   "metadata": {},
   "source": [
    "# Polynomial Regression"
   ]
  },
  {
   "cell_type": "code",
   "execution_count": 21,
   "metadata": {},
   "outputs": [
    {
     "name": "stdout",
     "output_type": "stream",
     "text": [
      "['x0', 'x1', 'x2', 'x3', 'x4', 'x5', 'x0^2', 'x0 x1', 'x0 x2', 'x0 x3', 'x0 x4', 'x0 x5', 'x1^2', 'x1 x2', 'x1 x3', 'x1 x4', 'x1 x5', 'x2^2', 'x2 x3', 'x2 x4', 'x2 x5', 'x3^2', 'x3 x4', 'x3 x5', 'x4^2', 'x4 x5', 'x5^2']\n",
      "                            OLS Regression Results                            \n",
      "==============================================================================\n",
      "Dep. Variable:                 O3 ppb   R-squared:                       0.992\n",
      "Model:                            OLS   Adj. R-squared:                  0.986\n",
      "Method:                 Least Squares   F-statistic:                     151.0\n",
      "Date:                Fri, 16 Aug 2019   Prob (F-statistic):           3.99e-26\n",
      "Time:                        22:19:19   Log-Likelihood:                -138.12\n",
      "No. Observations:                  58   AIC:                             330.2\n",
      "Df Residuals:                      31   BIC:                             385.9\n",
      "Df Model:                          27                                         \n",
      "Covariance Type:            nonrobust                                         \n",
      "==============================================================================\n",
      "                 coef    std err          t      P>|t|      [0.025      0.975]\n",
      "------------------------------------------------------------------------------\n",
      "x1            51.4119     42.946      1.197      0.240     -36.177     139.001\n",
      "x2            38.1123     71.506      0.533      0.598    -107.725     183.949\n",
      "x3         -9347.9945   6.89e+04     -0.136      0.893    -1.5e+05    1.31e+05\n",
      "x4          1.711e+05   1.66e+05      1.031      0.310   -1.67e+05     5.1e+05\n",
      "x5         -3.317e+04    3.9e+04     -0.850      0.402   -1.13e+05    4.64e+04\n",
      "x6         -1.423e+05   2.03e+05     -0.701      0.488   -5.56e+05    2.72e+05\n",
      "x7             0.0260      0.048      0.545      0.590      -0.071       0.123\n",
      "x8             0.0729      0.169      0.431      0.670      -0.272       0.418\n",
      "x9           118.5755    130.824      0.906      0.372    -148.242     385.393\n",
      "x10          -66.4338    285.502     -0.233      0.818    -648.719     515.851\n",
      "x11            0.2789     72.721      0.004      0.997    -148.037     148.595\n",
      "x12         -302.6477    315.605     -0.959      0.345    -946.328     341.032\n",
      "x13            0.3784      0.240      1.577      0.125      -0.111       0.868\n",
      "x14          177.5452    284.657      0.624      0.537    -403.017     758.107\n",
      "x15           -9.9715    763.400     -0.013      0.990   -1566.937    1546.994\n",
      "x16         -359.6163    214.442     -1.677      0.104    -796.973      77.740\n",
      "x17          -54.5107    705.732     -0.077      0.939   -1493.861    1384.840\n",
      "x18         -1.66e+05   2.62e+05     -0.633      0.531   -7.01e+05    3.69e+05\n",
      "x19         2.527e+05   6.08e+05      0.415      0.681   -9.88e+05    1.49e+06\n",
      "x20         -1.46e+05   1.84e+05     -0.791      0.435   -5.22e+05     2.3e+05\n",
      "x21         2.257e+05   7.23e+05      0.312      0.757   -1.25e+06     1.7e+06\n",
      "x22        -1.297e+06   1.07e+06     -1.210      0.235   -3.48e+06    8.89e+05\n",
      "x23         3.926e+05   3.61e+05      1.087      0.285   -3.44e+05    1.13e+06\n",
      "x24         1.153e+06   1.68e+06      0.685      0.499   -2.28e+06    4.59e+06\n",
      "x25         5.619e+04   8.64e+04      0.650      0.520    -1.2e+05    2.32e+05\n",
      "x26        -1.687e+05   4.08e+05     -0.414      0.682      -1e+06    6.63e+05\n",
      "x27        -2.371e+05   7.44e+05     -0.318      0.752   -1.76e+06    1.28e+06\n",
      "==============================================================================\n",
      "Omnibus:                        6.092   Durbin-Watson:                   1.412\n",
      "Prob(Omnibus):                  0.048   Jarque-Bera (JB):                5.174\n",
      "Skew:                           0.594   Prob(JB):                       0.0752\n",
      "Kurtosis:                       3.855   Cond. No.                     2.21e+10\n",
      "==============================================================================\n",
      "\n",
      "Warnings:\n",
      "[1] Standard Errors assume that the covariance matrix of the errors is correctly specified.\n",
      "[2] The smallest eigenvalue is 2.82e-12. This might indicate that there are\n",
      "strong multicollinearity problems or that the design matrix is singular.\n"
     ]
    }
   ],
   "source": [
    "poly_2 = PolynomialFeatures(degree=2, interaction_only=False,include_bias=False)\n",
    "X_poly_2 = poly_2.fit_transform(X)\n",
    "print(poly_2.get_feature_names())\n",
    "model_poly_2 = LinearRegression(fit_intercept =False, normalize = True)\n",
    "\n",
    "model_poly_2.fit(X_poly_2, y)\n",
    "r_sq = model_poly_2.score(X_poly_2, y)\n",
    "#print('coefficient of determination:', r_sq)\n",
    "#print('intercept:', model_poly_2.intercept_)\n",
    "#print('slope:', model_poly_2.coef_)\n",
    "    \n",
    "#X2_ = sm.add_constant(X_poly_2)\n",
    "est = sm.OLS(y, X_poly_2).fit()\n",
    "#print(est.summary(xname=['Humidity', 'Temperature', 'NO_We', 'NO_Aux', 'Humidity^2', 'Humidity*Temperature', 'Humidity*NO_We', 'Humidity*NO_Aux','Temperature^2', 'Temperature*NO_We', 'Temperature*NO_Aux', 'NO_We^2','NO_We*NO_Aux', 'NO_Aux^2']))\n",
    "print(est.summary())"
   ]
  },
  {
   "cell_type": "code",
   "execution_count": null,
   "metadata": {},
   "outputs": [],
   "source": []
  },
  {
   "cell_type": "code",
   "execution_count": null,
   "metadata": {},
   "outputs": [],
   "source": []
  }
 ],
 "metadata": {
  "kernelspec": {
   "display_name": "Python 3",
   "language": "python",
   "name": "python3"
  },
  "language_info": {
   "codemirror_mode": {
    "name": "ipython",
    "version": 3
   },
   "file_extension": ".py",
   "mimetype": "text/x-python",
   "name": "python",
   "nbconvert_exporter": "python",
   "pygments_lexer": "ipython3",
   "version": "3.6.8"
  }
 },
 "nbformat": 4,
 "nbformat_minor": 2
}
