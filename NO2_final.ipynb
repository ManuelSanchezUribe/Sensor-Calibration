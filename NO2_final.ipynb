{
 "cells": [
  {
   "cell_type": "code",
   "execution_count": 2,
   "metadata": {},
   "outputs": [],
   "source": [
    "import numpy as np\n",
    "import pandas as pd\n",
    "import seaborn as sns\n",
    "from scipy import stats\n",
    "import matplotlib.pyplot as plt\n",
    "\n",
    "import statsmodels.api as sm\n",
    "from statsmodels.stats import diagnostic as diag\n",
    "from statsmodels.stats.outliers_influence import variance_inflation_factor\n",
    "\n",
    "from sklearn.linear_model import LinearRegression, HuberRegressor\n",
    "from sklearn.pipeline import make_pipeline\n",
    "from sklearn.preprocessing import PolynomialFeatures\n",
    "from sklearn.model_selection import train_test_split\n",
    "from sklearn.metrics import mean_squared_error, r2_score, mean_absolute_error\n"
   ]
  },
  {
   "cell_type": "code",
   "execution_count": 3,
   "metadata": {},
   "outputs": [],
   "source": [
    "from CALIBRATION import filedata, readfiles,ScatterPlotVariables, ScatterPlotVariablesperday, LinearRegressionModel, PolynomialRegressionModel,  HuberRegressionModel\n",
    "file_NO2 = filedata('2019-08-15-NO2-Final.xlsx', 'Base')\n",
    "# Read data from fike\n",
    "day, X, y, dataframe = readfiles(file_NO2)"
   ]
  },
  {
   "cell_type": "code",
   "execution_count": 117,
   "metadata": {},
   "outputs": [],
   "source": [
    "#ScatterPlotVariablesperday(day, X,y,dataframe.columns[1:-1]);  plt.show()"
   ]
  },
  {
   "cell_type": "code",
   "execution_count": 120,
   "metadata": {},
   "outputs": [],
   "source": [
    "# Check multicollinerity\n",
    "\n",
    "# Calculate the correlation matrix\n",
    "#corr = dataframe.corr()\n",
    "#display(corr)\n",
    "# correlation heatmap\n",
    "#sns.heatmap(corr, xticklabels=corr.columns, yticklabels=corr.columns, cmap='RdBu')\n",
    "# Scatter plot for multicollinearity\n",
    "#pd.plotting.scatter_matrix(dataframe, alpha=1, figsize = (30,20))\n",
    "#plt.show()"
   ]
  },
  {
   "cell_type": "markdown",
   "metadata": {},
   "source": [
    "## Select day 4"
   ]
  },
  {
   "cell_type": "code",
   "execution_count": 4,
   "metadata": {},
   "outputs": [],
   "source": [
    "dataframe = dataframe[dataframe['Day']==4]\n",
    "dataframe_before = dataframe\n",
    "#dataframe_after = dataframe\n",
    "dataframe_after = dataframe.drop(['Day'], axis=1)\n",
    "\n",
    "#X1 = sm.tools.add_constant(dataframe_before)\n",
    "#X2 = sm.tools.add_constant(dataframe_after)\n",
    "\n",
    "#series_before = pd.Series([variance_inflation_factor(X1.values,i) for i in range(X1.shape[1])],index = X1.columns)\n",
    "#series_after = pd.Series([variance_inflation_factor(X2.values,i) for i in range(X2.shape[1])],index = X2.columns)\n",
    "\n",
    "#print(\"DATA BEFORE\")\n",
    "#print('-'*100)\n",
    "#display(series_before)\n",
    "\n",
    "#print(\"DATA AFTER\")\n",
    "#print('-'*100)\n",
    "#display(series_after)"
   ]
  },
  {
   "cell_type": "code",
   "execution_count": 5,
   "metadata": {},
   "outputs": [],
   "source": [
    "# Describe de data set\n",
    "#desc_df = dataframe.describe()\n",
    "\n",
    "#desc_df.loc['+3_std'] = desc_df.loc['mean'] + (desc_df.loc['std']*3)\n",
    "#desc_df.loc['-3_std'] = desc_df.loc['mean'] - (desc_df.loc['std']*3)\n",
    "\n",
    "#desc_df\n"
   ]
  },
  {
   "cell_type": "code",
   "execution_count": 7,
   "metadata": {},
   "outputs": [
    {
     "data": {
      "text/plain": [
       "Int64Index([155], dtype='int64')"
      ]
     },
     "execution_count": 7,
     "metadata": {},
     "output_type": "execute_result"
    }
   ],
   "source": [
    "# Removing outliers using zscore\n",
    "dataframe_remove = dataframe_after[(np.abs(stats.zscore(dataframe_after)) < 3).all(axis = 1)]\n",
    "dataframe_after.index.difference(dataframe_remove.index)"
   ]
  },
  {
   "cell_type": "markdown",
   "metadata": {},
   "source": [
    "# Linear Regression model"
   ]
  },
  {
   "cell_type": "code",
   "execution_count": 10,
   "metadata": {},
   "outputs": [
    {
     "name": "stdout",
     "output_type": "stream",
     "text": [
      "The intercept of our linear regression model is -102.42658\n",
      "The coefficient for Humidity is -0.48616\n",
      "The coefficient for Temperature is -0.51574\n",
      "The coefficient for NO2_We is 2163.29573\n",
      "The coefficient for NO2_Aux is -2349.86011\n",
      "The coefficient for O3_We is -591.52991\n",
      "The coefficient for O3_Aux is 1476.38086\n"
     ]
    }
   ],
   "source": [
    "# Build the model using sklearn\n",
    "X = dataframe_remove.drop('NO2 ppb', axis=1)\n",
    "y = dataframe_remove['NO2 ppb']\n",
    "\n",
    "# Split X and y into X_\n",
    "X_train, X_test, y_train, y_test = train_test_split(X,y, test_size=0.2, random_state = 1)\n",
    "\n",
    "# Create Linear Regression model object\n",
    "model_lin_reg = LinearRegression()\n",
    "model_lin_reg.fit(X_train, y_train)\n",
    "\n",
    "intercept = model_lin_reg.intercept_\n",
    "coefficient = model_lin_reg.coef_\n",
    "\n",
    "print(\"The intercept of our linear regression model is {:.5f}\".format(intercept))\n",
    "for coef in zip(X.columns, model_lin_reg.coef_):\n",
    "    print(\"The coefficient for {} is {:.5f}\".format(coef[0], coef[1]))\n",
    "    \n",
    "# Prediction plot X_test \n",
    "#y_pred = model_lin_reg.predict(X_test)\n",
    "\n",
    "#model_mse = mean_squared_error(y_test, y_pred)\n",
    "#model_r2 = r2_score(y_test, y_pred)\n",
    "\n",
    "#plt.scatter(X_test['NO_We'], y_test )\n",
    "#print(model_mse, model_r2)\n",
    "\n",
    "#import pickle\n",
    "#with open('my_multilinear_regression_NO.sav','wb') as f:\n",
    "#    pickle.dump(model_lin_reg,f)"
   ]
  },
  {
   "cell_type": "code",
   "execution_count": null,
   "metadata": {},
   "outputs": [],
   "source": []
  },
  {
   "cell_type": "markdown",
   "metadata": {},
   "source": [
    "## Linear Model with sm"
   ]
  },
  {
   "cell_type": "code",
   "execution_count": 13,
   "metadata": {},
   "outputs": [
    {
     "name": "stdout",
     "output_type": "stream",
     "text": [
      "                            OLS Regression Results                            \n",
      "==============================================================================\n",
      "Dep. Variable:                NO2 ppb   R-squared:                       0.919\n",
      "Model:                            OLS   Adj. R-squared:                  0.910\n",
      "Method:                 Least Squares   F-statistic:                     98.71\n",
      "Date:                Fri, 16 Aug 2019   Prob (F-statistic):           1.22e-26\n",
      "Time:                        22:16:28   Log-Likelihood:                -149.09\n",
      "No. Observations:                  58   AIC:                             310.2\n",
      "Df Residuals:                      52   BIC:                             322.6\n",
      "Df Model:                           6                                         \n",
      "Covariance Type:            nonrobust                                         \n",
      "===============================================================================\n",
      "                  coef    std err          t      P>|t|      [0.025      0.975]\n",
      "-------------------------------------------------------------------------------\n",
      "Humidity       -0.4257      0.070     -6.056      0.000      -0.567      -0.285\n",
      "Temperature    -0.3283      0.183     -1.790      0.079      -0.696       0.040\n",
      "NO2_We       1903.9696    284.976      6.681      0.000    1332.124    2475.815\n",
      "NO2_Aux     -2898.6328    490.871     -5.905      0.000   -3883.637   -1913.628\n",
      "O3_We        -441.6383    118.226     -3.736      0.000    -678.876    -204.400\n",
      "O3_Aux       1626.8446    579.492      2.807      0.007     464.009    2789.680\n",
      "==============================================================================\n",
      "Omnibus:                        0.862   Durbin-Watson:                   0.902\n",
      "Prob(Omnibus):                  0.650   Jarque-Bera (JB):                0.301\n",
      "Skew:                          -0.092   Prob(JB):                        0.860\n",
      "Kurtosis:                       3.302   Cond. No.                     1.22e+05\n",
      "==============================================================================\n",
      "\n",
      "Warnings:\n",
      "[1] Standard Errors assume that the covariance matrix of the errors is correctly specified.\n",
      "[2] The condition number is large, 1.22e+05. This might indicate that there are\n",
      "strong multicollinearity or other numerical problems.\n"
     ]
    }
   ],
   "source": [
    "# define output\n",
    "#X2 = sm.add_constant(X)\n",
    "# create model with OLS\n",
    "model_lin_reg_2 = sm.OLS(y, X)\n",
    "# fir the data\n",
    "est = model_lin_reg_2.fit()\n",
    "print(est.summary())"
   ]
  },
  {
   "cell_type": "code",
   "execution_count": 14,
   "metadata": {},
   "outputs": [
    {
     "data": {
      "image/png": "[encoded data removed]",
      "text/plain": [
       "<Figure size 432x288 with 1 Axes>"
      ]
     },
     "metadata": {
      "needs_background": "light"
     },
     "output_type": "display_data"
    },
    {
     "name": "stdout",
     "output_type": "stream",
     "text": [
      "The mean of the residuals is -0.005768\n"
     ]
    }
   ],
   "source": [
    "# check normality of Residuals\n",
    "import pylab\n",
    "sm.qqplot(est.resid, line='s')\n",
    "pylab.show()\n",
    "mean_residuals = sum(est.resid)/len(est.resid)\n",
    "print(\"The mean of the residuals is {:.4}\".format(mean_residuals))"
   ]
  },
  {
   "cell_type": "code",
   "execution_count": null,
   "metadata": {},
   "outputs": [],
   "source": []
  },
  {
   "cell_type": "code",
   "execution_count": 237,
   "metadata": {},
   "outputs": [],
   "source": [
    "# Elliminate insignificant variables\n",
    "#dataframe_remove_2 = dataframe_remove.drop('Humidity', axis=1)\n",
    "#X = dataframe_remove_2.drop('NO_ppb', axis=1)\n",
    "#print(X)\n",
    "#y = dataframe_remove_2['NO_ppb']\n",
    "#print(y)\n",
    "# define output\n",
    "#X2 = sm.add_constant(X)\n",
    "# create model with OLS\n",
    "#model_lin_reg_2 = sm.OLS(y, X)\n",
    "# fir the data\n",
    "#est = model_lin_reg_2.fit()\n",
    "#print(est.summary())"
   ]
  },
  {
   "cell_type": "markdown",
   "metadata": {},
   "source": [
    "# Polynomial Regression"
   ]
  },
  {
   "cell_type": "code",
   "execution_count": 16,
   "metadata": {},
   "outputs": [
    {
     "name": "stdout",
     "output_type": "stream",
     "text": [
      "['x0', 'x1', 'x2', 'x3', 'x4', 'x5', 'x0^2', 'x0 x1', 'x0 x2', 'x0 x3', 'x0 x4', 'x0 x5', 'x1^2', 'x1 x2', 'x1 x3', 'x1 x4', 'x1 x5', 'x2^2', 'x2 x3', 'x2 x4', 'x2 x5', 'x3^2', 'x3 x4', 'x3 x5', 'x4^2', 'x4 x5', 'x5^2']\n",
      "                            OLS Regression Results                            \n",
      "==============================================================================\n",
      "Dep. Variable:                NO2 ppb   R-squared:                       0.984\n",
      "Model:                            OLS   Adj. R-squared:                  0.970\n",
      "Method:                 Least Squares   F-statistic:                     70.97\n",
      "Date:                Fri, 16 Aug 2019   Prob (F-statistic):           3.84e-21\n",
      "Time:                        22:16:53   Log-Likelihood:                -102.02\n",
      "No. Observations:                  58   AIC:                             258.0\n",
      "Df Residuals:                      31   BIC:                             313.7\n",
      "Df Model:                          27                                         \n",
      "Covariance Type:            nonrobust                                         \n",
      "==============================================================================\n",
      "                 coef    std err          t      P>|t|      [0.025      0.975]\n",
      "------------------------------------------------------------------------------\n",
      "x1            -4.7308     23.048     -0.205      0.839     -51.737      42.275\n",
      "x2           -46.0865     38.375     -1.201      0.239    -124.352      32.179\n",
      "x3          5.232e+04    3.7e+04      1.414      0.167   -2.31e+04    1.28e+05\n",
      "x4          2.748e+05   8.91e+04      3.085      0.004    9.31e+04    4.56e+05\n",
      "x5          4.523e+04   2.09e+04      2.160      0.039    2528.377    8.79e+04\n",
      "x6         -3.642e+05   1.09e+05     -3.344      0.002   -5.86e+05   -1.42e+05\n",
      "x7            -0.0666      0.026     -2.600      0.014      -0.119      -0.014\n",
      "x8            -0.2335      0.091     -2.571      0.015      -0.419      -0.048\n",
      "x9           152.3131     70.209      2.169      0.038       9.121     295.505\n",
      "x10          172.5617    153.219      1.126      0.269    -139.931     485.054\n",
      "x11           69.4710     39.027      1.780      0.085     -10.125     149.067\n",
      "x12         -313.8444    169.374     -1.853      0.073    -659.285      31.596\n",
      "x13           -0.1299      0.129     -1.009      0.321      -0.393       0.133\n",
      "x14          159.9454    152.766      1.047      0.303    -151.622     471.513\n",
      "x15          891.4281    409.691      2.176      0.037      55.859    1726.998\n",
      "x16          -83.6775    115.083     -0.727      0.473    -318.392     151.037\n",
      "x17         -648.9607    378.742     -1.713      0.097   -1421.410     123.489\n",
      "x18        -2.322e+05   1.41e+05     -1.649      0.109   -5.19e+05     5.5e+04\n",
      "x19        -4.627e+05   3.26e+05     -1.417      0.166   -1.13e+06    2.03e+05\n",
      "x20        -1008.1463    9.9e+04     -0.010      0.992   -2.03e+05    2.01e+05\n",
      "x21         6.391e+05   3.88e+05      1.647      0.110   -1.52e+05    1.43e+06\n",
      "x22        -1.425e+06   5.75e+05     -2.479      0.019    -2.6e+06   -2.53e+05\n",
      "x23        -8663.4706   1.94e+05     -0.045      0.965   -4.04e+05    3.87e+05\n",
      "x24         1.913e+06   9.04e+05      2.116      0.042    6.93e+04    3.76e+06\n",
      "x25         7.836e+04   4.64e+04      1.690      0.101   -1.62e+04    1.73e+05\n",
      "x26        -3.684e+05   2.19e+05     -1.683      0.102   -8.15e+05     7.8e+04\n",
      "x27        -1.835e+05      4e+05     -0.459      0.649   -9.98e+05    6.31e+05\n",
      "==============================================================================\n",
      "Omnibus:                        1.513   Durbin-Watson:                   1.940\n",
      "Prob(Omnibus):                  0.469   Jarque-Bera (JB):                0.788\n",
      "Skew:                           0.183   Prob(JB):                        0.674\n",
      "Kurtosis:                       3.439   Cond. No.                     2.21e+10\n",
      "==============================================================================\n",
      "\n",
      "Warnings:\n",
      "[1] Standard Errors assume that the covariance matrix of the errors is correctly specified.\n",
      "[2] The smallest eigenvalue is 2.82e-12. This might indicate that there are\n",
      "strong multicollinearity problems or that the design matrix is singular.\n"
     ]
    }
   ],
   "source": [
    "poly_2 = PolynomialFeatures(degree=2, interaction_only=False,include_bias=False)\n",
    "X_poly_2 = poly_2.fit_transform(X)\n",
    "print(poly_2.get_feature_names())\n",
    "model_poly_2 = LinearRegression(fit_intercept =False, normalize = True)\n",
    "\n",
    "model_poly_2.fit(X_poly_2, y)\n",
    "r_sq = model_poly_2.score(X_poly_2, y)\n",
    "#print('coefficient of determination:', r_sq)\n",
    "#print('intercept:', model_poly_2.intercept_)\n",
    "#print('slope:', model_poly_2.coef_)\n",
    "    \n",
    "#X2_ = sm.add_constant(X_poly_2)\n",
    "est = sm.OLS(y, X_poly_2).fit()\n",
    "#print(est.summary(xname=['Humidity', 'Temperature', 'NO_We', 'NO_Aux', 'Humidity^2', 'Humidity*Temperature', 'Humidity*NO_We', 'Humidity*NO_Aux','Temperature^2', 'Temperature*NO_We', 'Temperature*NO_Aux', 'NO_We^2','NO_We*NO_Aux', 'NO_Aux^2']))\n",
    "print(est.summary())"
   ]
  },
  {
   "cell_type": "code",
   "execution_count": null,
   "metadata": {},
   "outputs": [],
   "source": []
  },
  {
   "cell_type": "code",
   "execution_count": null,
   "metadata": {},
   "outputs": [],
   "source": []
  }
 ],
 "metadata": {
  "kernelspec": {
   "display_name": "Python 3",
   "language": "python",
   "name": "python3"
  },
  "language_info": {
   "codemirror_mode": {
    "name": "ipython",
    "version": 3
   },
   "file_extension": ".py",
   "mimetype": "text/x-python",
   "name": "python",
   "nbconvert_exporter": "python",
   "pygments_lexer": "ipython3",
   "version": "3.6.8"
  }
 },
 "nbformat": 4,
 "nbformat_minor": 2
}
