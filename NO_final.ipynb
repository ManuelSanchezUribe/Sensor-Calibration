{
 "cells": [
  {
   "cell_type": "code",
   "execution_count": 176,
   "metadata": {},
   "outputs": [],
   "source": [
    "import numpy as np\n",
    "import pandas as pd\n",
    "import seaborn as sns\n",
    "from scipy import stats\n",
    "import matplotlib.pyplot as plt\n",
    "\n",
    "import statsmodels.api as sm\n",
    "from statsmodels.stats import diagnostic as diag\n",
    "from statsmodels.stats.outliers_influence import variance_inflation_factor\n",
    "\n",
    "from sklearn.linear_model import LinearRegression, HuberRegressor\n",
    "from sklearn.pipeline import make_pipeline\n",
    "from sklearn.preprocessing import PolynomialFeatures\n",
    "from sklearn.model_selection import train_test_split\n",
    "from sklearn.metrics import mean_squared_error, r2_score, mean_absolute_error\n"
   ]
  },
  {
   "cell_type": "code",
   "execution_count": 116,
   "metadata": {},
   "outputs": [],
   "source": [
    "from CALIBRATION import filedata, readfiles,ScatterPlotVariables, ScatterPlotVariablesperday, LinearRegressionModel, PolynomialRegressionModel,  HuberRegressionModel\n",
    "file_NO = filedata('2019-08-15-NO-Final.xlsx', 'Base')\n",
    "# Read data from fike\n",
    "day, X, y, dataframe = readfiles(file_NO)"
   ]
  },
  {
   "cell_type": "code",
   "execution_count": 117,
   "metadata": {},
   "outputs": [],
   "source": [
    "#ScatterPlotVariablesperday(day, X,y,dataframe.columns[1:-1]);  plt.show()"
   ]
  },
  {
   "cell_type": "code",
   "execution_count": 120,
   "metadata": {},
   "outputs": [],
   "source": [
    "# Check multicollinerity\n",
    "\n",
    "# Calculate the correlation matrix\n",
    "#corr = dataframe.corr()\n",
    "#display(corr)\n",
    "# correlation heatmap\n",
    "#sns.heatmap(corr, xticklabels=corr.columns, yticklabels=corr.columns, cmap='RdBu')\n",
    "# Scatter plot for multicollinearity\n",
    "#pd.plotting.scatter_matrix(dataframe, alpha=1, figsize = (30,20))\n",
    "#plt.show()"
   ]
  },
  {
   "cell_type": "markdown",
   "metadata": {},
   "source": [
    "## Select day 4"
   ]
  },
  {
   "cell_type": "code",
   "execution_count": 121,
   "metadata": {},
   "outputs": [],
   "source": [
    "dataframe = dataframe[dataframe['Day']==4]\n",
    "dataframe_before = dataframe\n",
    "#dataframe_after = dataframe\n",
    "dataframe_after = dataframe.drop(['Day'], axis=1)\n",
    "\n",
    "#X1 = sm.tools.add_constant(dataframe_before)\n",
    "#X2 = sm.tools.add_constant(dataframe_after)\n",
    "\n",
    "#series_before = pd.Series([variance_inflation_factor(X1.values,i) for i in range(X1.shape[1])],index = X1.columns)\n",
    "#series_after = pd.Series([variance_inflation_factor(X2.values,i) for i in range(X2.shape[1])],index = X2.columns)\n",
    "\n",
    "#print(\"DATA BEFORE\")\n",
    "#print('-'*100)\n",
    "#display(series_before)\n",
    "\n",
    "#print(\"DATA AFTER\")\n",
    "#print('-'*100)\n",
    "#display(series_after)"
   ]
  },
  {
   "cell_type": "code",
   "execution_count": 122,
   "metadata": {},
   "outputs": [],
   "source": [
    "# Describe de data set\n",
    "#desc_df = dataframe.describe()\n",
    "\n",
    "#desc_df.loc['+3_std'] = desc_df.loc['mean'] + (desc_df.loc['std']*3)\n",
    "#desc_df.loc['-3_std'] = desc_df.loc['mean'] - (desc_df.loc['std']*3)\n",
    "\n",
    "#desc_df\n"
   ]
  },
  {
   "cell_type": "code",
   "execution_count": 123,
   "metadata": {},
   "outputs": [],
   "source": [
    "# Removing outliers using zscore\n",
    "dataframe_remove = dataframe_after[(np.abs(stats.zscore(dataframe_after)) < 3).all(axis = 1)]\n",
    "#dataframe_after.index.difference(dataframe_remove.index)"
   ]
  },
  {
   "cell_type": "markdown",
   "metadata": {},
   "source": [
    "# Linear Regression model"
   ]
  },
  {
   "cell_type": "code",
   "execution_count": 234,
   "metadata": {},
   "outputs": [
    {
     "name": "stdout",
     "output_type": "stream",
     "text": [
      "The intercept of our linear regression model is 49.42761\n",
      "The coefficient for Humidity is -0.03311\n",
      "The coefficient for Temperature is -0.46217\n",
      "The coefficient for NO_We is 826.16364\n",
      "The coefficient for NO_Aux is -998.35629\n"
     ]
    }
   ],
   "source": [
    "# Build the model using sklearn\n",
    "X = dataframe_remove.drop('NO_ppb', axis=1)\n",
    "y = dataframe_remove['NO_ppb']\n",
    "\n",
    "# Split X and y into X_\n",
    "X_train, X_test, y_train, y_test = train_test_split(X,y, test_size=0.2, random_state = 1)\n",
    "\n",
    "# Create Linear Regression model object\n",
    "model_lin_reg = LinearRegression()\n",
    "model_lin_reg.fit(X_train, y_train)\n",
    "\n",
    "intercept = model_lin_reg.intercept_\n",
    "coefficient = model_lin_reg.coef_\n",
    "\n",
    "print(\"The intercept of our linear regression model is {:.5f}\".format(intercept))\n",
    "for coef in zip(X.columns, model_lin_reg.coef_):\n",
    "    print(\"The coefficient for {} is {:.5f}\".format(coef[0], coef[1]))\n",
    "    \n",
    "# Prediction plot X_test \n",
    "#y_pred = model_lin_reg.predict(X_test)\n",
    "\n",
    "#model_mse = mean_squared_error(y_test, y_pred)\n",
    "#model_r2 = r2_score(y_test, y_pred)\n",
    "\n",
    "#plt.scatter(X_test['NO_We'], y_test )\n",
    "#print(model_mse, model_r2)\n",
    "\n",
    "#import pickle\n",
    "#with open('my_multilinear_regression_NO.sav','wb') as f:\n",
    "#    pickle.dump(model_lin_reg,f)"
   ]
  },
  {
   "cell_type": "code",
   "execution_count": null,
   "metadata": {},
   "outputs": [],
   "source": []
  },
  {
   "cell_type": "markdown",
   "metadata": {},
   "source": [
    "## Linear Model with sm"
   ]
  },
  {
   "cell_type": "code",
   "execution_count": 240,
   "metadata": {},
   "outputs": [
    {
     "name": "stdout",
     "output_type": "stream",
     "text": [
      "                            OLS Regression Results                            \n",
      "==============================================================================\n",
      "Dep. Variable:                 NO_ppb   R-squared:                       0.874\n",
      "Model:                            OLS   Adj. R-squared:                  0.865\n",
      "Method:                 Least Squares   F-statistic:                     91.95\n",
      "Date:                Fri, 16 Aug 2019   Prob (F-statistic):           3.45e-23\n",
      "Time:                        22:12:34   Log-Likelihood:                -119.48\n",
      "No. Observations:                  57   AIC:                             247.0\n",
      "Df Residuals:                      53   BIC:                             255.1\n",
      "Df Model:                           4                                         \n",
      "Covariance Type:            nonrobust                                         \n",
      "===============================================================================\n",
      "                  coef    std err          t      P>|t|      [0.025      0.975]\n",
      "-------------------------------------------------------------------------------\n",
      "Humidity       -0.0307      0.038     -0.814      0.419      -0.106       0.045\n",
      "Temperature    -1.3223      0.118    -11.252      0.000      -1.558      -1.087\n",
      "NO_We         760.0999    119.180      6.378      0.000     521.055     999.144\n",
      "NO_Aux       -693.7193    132.144     -5.250      0.000    -958.767    -428.672\n",
      "==============================================================================\n",
      "Omnibus:                        7.367   Durbin-Watson:                   0.909\n",
      "Prob(Omnibus):                  0.025   Jarque-Bera (JB):                7.246\n",
      "Skew:                           0.873   Prob(JB):                       0.0267\n",
      "Kurtosis:                       3.049   Cond. No.                     4.69e+04\n",
      "==============================================================================\n",
      "\n",
      "Warnings:\n",
      "[1] Standard Errors assume that the covariance matrix of the errors is correctly specified.\n",
      "[2] The condition number is large, 4.69e+04. This might indicate that there are\n",
      "strong multicollinearity or other numerical problems.\n"
     ]
    }
   ],
   "source": [
    "# define output\n",
    "#X2 = sm.add_constant(X)\n",
    "# create model with OLS\n",
    "model_lin_reg_2 = sm.OLS(y, X)\n",
    "# fir the data\n",
    "est = model_lin_reg_2.fit()\n",
    "print(est.summary())"
   ]
  },
  {
   "cell_type": "code",
   "execution_count": 239,
   "metadata": {},
   "outputs": [
    {
     "data": {
      "image/png": "[encoded data removed]",
      "text/plain": [
       "<Figure size 432x288 with 1 Axes>"
      ]
     },
     "metadata": {
      "needs_background": "light"
     },
     "output_type": "display_data"
    },
    {
     "name": "stdout",
     "output_type": "stream",
     "text": [
      "The mean of the residuals is -1.188e-05\n"
     ]
    }
   ],
   "source": [
    "# check normality of Residuals\n",
    "import pylab\n",
    "sm.qqplot(est.resid, line='s')\n",
    "pylab.show()\n",
    "mean_residuals = sum(est.resid)/len(est.resid)\n",
    "print(\"The mean of the residuals is {:.4}\".format(mean_residuals))"
   ]
  },
  {
   "cell_type": "code",
   "execution_count": null,
   "metadata": {},
   "outputs": [],
   "source": []
  },
  {
   "cell_type": "code",
   "execution_count": 237,
   "metadata": {},
   "outputs": [],
   "source": [
    "# Elliminate insignificant variables\n",
    "#dataframe_remove_2 = dataframe_remove.drop('Humidity', axis=1)\n",
    "#X = dataframe_remove_2.drop('NO_ppb', axis=1)\n",
    "#print(X)\n",
    "#y = dataframe_remove_2['NO_ppb']\n",
    "#print(y)\n",
    "# define output\n",
    "#X2 = sm.add_constant(X)\n",
    "# create model with OLS\n",
    "#model_lin_reg_2 = sm.OLS(y, X)\n",
    "# fir the data\n",
    "#est = model_lin_reg_2.fit()\n",
    "#print(est.summary())"
   ]
  },
  {
   "cell_type": "markdown",
   "metadata": {},
   "source": [
    "# Polynomial Regression"
   ]
  },
  {
   "cell_type": "code",
   "execution_count": 238,
   "metadata": {},
   "outputs": [
    {
     "name": "stdout",
     "output_type": "stream",
     "text": [
      "['x0', 'x1', 'x2', 'x3', 'x0^2', 'x0 x1', 'x0 x2', 'x0 x3', 'x1^2', 'x1 x2', 'x1 x3', 'x2^2', 'x2 x3', 'x3^2']\n",
      "                            OLS Regression Results                            \n",
      "==============================================================================\n",
      "Dep. Variable:                 NO_ppb   R-squared:                       0.947\n",
      "Model:                            OLS   Adj. R-squared:                  0.930\n",
      "Method:                 Least Squares   F-statistic:                     54.76\n",
      "Date:                Fri, 16 Aug 2019   Prob (F-statistic):           9.56e-23\n",
      "Time:                        22:01:27   Log-Likelihood:                -94.875\n",
      "No. Observations:                  57   AIC:                             217.7\n",
      "Df Residuals:                      43   BIC:                             246.4\n",
      "Df Model:                          14                                         \n",
      "Covariance Type:            nonrobust                                         \n",
      "========================================================================================\n",
      "                           coef    std err          t      P>|t|      [0.025      0.975]\n",
      "----------------------------------------------------------------------------------------\n",
      "Humidity                 7.7028      5.883      1.309      0.197      -4.162      19.567\n",
      "Temperature            -11.3354     12.482     -0.908      0.369     -36.508      13.837\n",
      "NO_We                 2.756e+04   9507.677      2.899      0.006    8385.206    4.67e+04\n",
      "NO_Aux               -3.044e+04   1.14e+04     -2.669      0.011   -5.34e+04   -7439.660\n",
      "Humidity^2               0.0073      0.004      2.071      0.044       0.000       0.014\n",
      "Humidity*Temperature     0.2101      0.087      2.405      0.021       0.034       0.386\n",
      "Humidity*NO_We          27.6065     13.660      2.021      0.050       0.058      55.155\n",
      "Humidity*NO_Aux        -76.4353     34.833     -2.194      0.034    -146.684      -6.187\n",
      "Temperature^2            0.2597      0.175      1.487      0.144      -0.092       0.612\n",
      "Temperature*NO_We      311.4711    144.696      2.153      0.037      19.665     603.278\n",
      "Temperature*NO_Aux    -393.3657    201.710     -1.950      0.058    -800.152      13.421\n",
      "NO_We^2               1.639e+05   3.46e+04      4.738      0.000    9.41e+04    2.34e+05\n",
      "NO_We*NO_Aux         -4.773e+05   1.05e+05     -4.530      0.000    -6.9e+05   -2.65e+05\n",
      "NO_Aux^2              3.331e+05   8.19e+04      4.065      0.000    1.68e+05    4.98e+05\n",
      "==============================================================================\n",
      "Omnibus:                       21.261   Durbin-Watson:                   1.162\n",
      "Prob(Omnibus):                  0.000   Jarque-Bera (JB):               37.442\n",
      "Skew:                           1.196   Prob(JB):                     7.41e-09\n",
      "Kurtosis:                       6.170   Cond. No.                     3.40e+09\n",
      "==============================================================================\n",
      "\n",
      "Warnings:\n",
      "[1] Standard Errors assume that the covariance matrix of the errors is correctly specified.\n",
      "[2] The condition number is large, 3.4e+09. This might indicate that there are\n",
      "strong multicollinearity or other numerical problems.\n"
     ]
    }
   ],
   "source": [
    "poly_2 = PolynomialFeatures(degree=2, interaction_only=False,include_bias=False)\n",
    "X_poly_2 = poly_2.fit_transform(X)\n",
    "print(poly_2.get_feature_names())\n",
    "model_poly_2 = LinearRegression(fit_intercept =False, normalize = True)\n",
    "\n",
    "model_poly_2.fit(X_poly_2, y)\n",
    "r_sq = model_poly_2.score(X_poly_2, y)\n",
    "#print('coefficient of determination:', r_sq)\n",
    "#print('intercept:', model_poly_2.intercept_)\n",
    "#print('slope:', model_poly_2.coef_)\n",
    "    \n",
    "#X2_ = sm.add_constant(X_poly_2)\n",
    "est = sm.OLS(y, X_poly_2).fit()\n",
    "print(est.summary(xname=['Humidity', 'Temperature', 'NO_We', 'NO_Aux', 'Humidity^2', 'Humidity*Temperature', 'Humidity*NO_We', 'Humidity*NO_Aux','Temperature^2', 'Temperature*NO_We', 'Temperature*NO_Aux', 'NO_We^2','NO_We*NO_Aux', 'NO_Aux^2']))\n",
    "#print(est.summary())"
   ]
  },
  {
   "cell_type": "code",
   "execution_count": null,
   "metadata": {},
   "outputs": [],
   "source": []
  },
  {
   "cell_type": "code",
   "execution_count": null,
   "metadata": {},
   "outputs": [],
   "source": []
  }
 ],
 "metadata": {
  "kernelspec": {
   "display_name": "Python 3",
   "language": "python",
   "name": "python3"
  },
  "language_info": {
   "codemirror_mode": {
    "name": "ipython",
    "version": 3
   },
   "file_extension": ".py",
   "mimetype": "text/x-python",
   "name": "python",
   "nbconvert_exporter": "python",
   "pygments_lexer": "ipython3",
   "version": "3.6.8"
  }
 },
 "nbformat": 4,
 "nbformat_minor": 2
}
